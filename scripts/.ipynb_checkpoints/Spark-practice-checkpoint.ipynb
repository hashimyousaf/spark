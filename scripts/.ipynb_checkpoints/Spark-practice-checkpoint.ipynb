{
 "cells": [
  {
   "cell_type": "code",
   "execution_count": 1,
   "metadata": {},
   "outputs": [],
   "source": [
    "from pyspark import SparkConf, SparkContext \n",
    "import collections"
   ]
  },
  {
   "cell_type": "code",
   "execution_count": 2,
   "metadata": {},
   "outputs": [],
   "source": [
    "# Setting up our spark context\n",
    "# setMaster() telling it to set it's local machine as Master node, We are running it in cluster\n",
    "# setAppName()  setting job name\n",
    "conf = SparkConf().setMaster(\"local\").setAppName(\"RatingHistogram\")\n",
    "\n",
    "# using spark configuration object to create spark context of this type.\n",
    "sc = SparkContext(conf = conf)"
   ]
  },
  {
   "cell_type": "code",
   "execution_count": 3,
   "metadata": {},
   "outputs": [],
   "source": [
    "# read data and breaks up the text in file line by line, so that every line of text \n",
    "# correspondds to one value in your RDD.\n",
    "lines = sc.textFile(\"file:///home/hashimyousaf/spark-2.4.0-bin-hadoop2.7/bin/jupyter-scripts/dataset/ml-100k/u.data\")"
   ]
  },
  {
   "cell_type": "code",
   "execution_count": 4,
   "metadata": {},
   "outputs": [],
   "source": [
    "# Extract the data we care about (userid , movieid, rating, timestamp)\n",
    "# It's splitting up each value in rdd based on space and taling 2nd column which is ratings\n",
    "ratings = lines.map(lambda x: x.split()[2])\n",
    "\n",
    "# Perform an action countByValue to get count of each ranking\n",
    "result = ratings.countByValue()"
   ]
  },
  {
   "cell_type": "code",
   "execution_count": 5,
   "metadata": {
    "scrolled": false
   },
   "outputs": [
    {
     "name": "stdout",
     "output_type": "stream",
     "text": [
      "1 6110\n",
      "2 11370\n",
      "3 27145\n",
      "4 34174\n",
      "5 21201\n"
     ]
    }
   ],
   "source": [
    "# Sort the results based on the key\n",
    "sortedResults = collections.OrderedDict(sorted(result.items()))\n",
    "\n",
    "# showing sorted results \n",
    "for key, value in sortedResults.items():\n",
    "  print(key, value)\n"
   ]
  },
  {
   "cell_type": "code",
   "execution_count": null,
   "metadata": {},
   "outputs": [],
   "source": []
  }
 ],
 "metadata": {
  "kernelspec": {
   "display_name": "Python 3",
   "language": "python",
   "name": "python3"
  },
  "language_info": {
   "codemirror_mode": {
    "name": "ipython",
    "version": 3
   },
   "file_extension": ".py",
   "mimetype": "text/x-python",
   "name": "python",
   "nbconvert_exporter": "python",
   "pygments_lexer": "ipython3",
   "version": "3.7.1"
  }
 },
 "nbformat": 4,
 "nbformat_minor": 2
}
