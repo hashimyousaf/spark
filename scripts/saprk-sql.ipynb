{
 "cells": [
  {
   "cell_type": "code",
   "execution_count": 1,
   "metadata": {},
   "outputs": [],
   "source": [
    "from pyspark.sql import SparkSession\n",
    "from pyspark.sql import Row\n",
    "\n",
    "import collections\n"
   ]
  },
  {
   "cell_type": "code",
   "execution_count": 2,
   "metadata": {},
   "outputs": [],
   "source": [
    "# Create a SparkSession (Note, the config section is only for Windows!)\n",
    "spark = SparkSession.builder.appName(\"SparkSQL\").getOrCreate()\n"
   ]
  },
  {
   "cell_type": "code",
   "execution_count": 3,
   "metadata": {},
   "outputs": [
    {
     "name": "stdout",
     "output_type": "stream",
     "text": [
      "[Row(ID=0, age=33, name=\"b'Will'\", numFriends=385), Row(ID=1, age=26, name=\"b'Jean-Luc'\", numFriends=2), Row(ID=2, age=55, name=\"b'Hugh'\", numFriends=221), Row(ID=3, age=40, name=\"b'Deanna'\", numFriends=465), Row(ID=4, age=68, name=\"b'Quark'\", numFriends=21), Row(ID=5, age=59, name=\"b'Weyoun'\", numFriends=318), Row(ID=6, age=37, name=\"b'Gowron'\", numFriends=220), Row(ID=7, age=54, name=\"b'Will'\", numFriends=307), Row(ID=8, age=38, name=\"b'Jadzia'\", numFriends=380), Row(ID=9, age=27, name=\"b'Hugh'\", numFriends=181), Row(ID=10, age=53, name=\"b'Odo'\", numFriends=191), Row(ID=11, age=57, name=\"b'Ben'\", numFriends=372), Row(ID=12, age=54, name=\"b'Keiko'\", numFriends=253), Row(ID=13, age=56, name=\"b'Jean-Luc'\", numFriends=444), Row(ID=14, age=43, name=\"b'Hugh'\", numFriends=49), Row(ID=15, age=36, name=\"b'Rom'\", numFriends=49), Row(ID=16, age=22, name=\"b'Weyoun'\", numFriends=323), Row(ID=17, age=35, name=\"b'Odo'\", numFriends=13), Row(ID=18, age=45, name=\"b'Jean-Luc'\", numFriends=455), Row(ID=19, age=60, name=\"b'Geordi'\", numFriends=246), Row(ID=20, age=67, name=\"b'Odo'\", numFriends=220), Row(ID=21, age=19, name=\"b'Miles'\", numFriends=268), Row(ID=22, age=30, name=\"b'Quark'\", numFriends=72), Row(ID=23, age=51, name=\"b'Keiko'\", numFriends=271), Row(ID=24, age=25, name=\"b'Julian'\", numFriends=1), Row(ID=25, age=21, name=\"b'Ben'\", numFriends=445), Row(ID=26, age=22, name=\"b'Julian'\", numFriends=100), Row(ID=27, age=42, name=\"b'Leeta'\", numFriends=363), Row(ID=28, age=49, name=\"b'Martok'\", numFriends=476), Row(ID=29, age=48, name=\"b'Nog'\", numFriends=364), Row(ID=30, age=50, name=\"b'Keiko'\", numFriends=175), Row(ID=31, age=39, name=\"b'Miles'\", numFriends=161), Row(ID=32, age=26, name=\"b'Nog'\", numFriends=281), Row(ID=33, age=53, name=\"b'Dukat'\", numFriends=197), Row(ID=34, age=43, name=\"b'Jean-Luc'\", numFriends=249), Row(ID=35, age=27, name=\"b'Beverly'\", numFriends=305), Row(ID=36, age=32, name=\"b'Kasidy'\", numFriends=81), Row(ID=37, age=58, name=\"b'Geordi'\", numFriends=21), Row(ID=38, age=64, name=\"b'Deanna'\", numFriends=65), Row(ID=39, age=31, name=\"b'Morn'\", numFriends=192), Row(ID=40, age=52, name=\"b'Odo'\", numFriends=413), Row(ID=41, age=67, name=\"b'Hugh'\", numFriends=167), Row(ID=42, age=54, name=\"b'Brunt'\", numFriends=75), Row(ID=43, age=58, name=\"b'Guinan'\", numFriends=345), Row(ID=44, age=35, name=\"b'Nerys'\", numFriends=244), Row(ID=45, age=52, name=\"b'Dukat'\", numFriends=77), Row(ID=46, age=25, name=\"b'Morn'\", numFriends=96), Row(ID=47, age=24, name=\"b'Brunt'\", numFriends=49), Row(ID=48, age=20, name=\"b'Nog'\", numFriends=1), Row(ID=49, age=40, name=\"b'Ezri'\", numFriends=254), Row(ID=50, age=51, name=\"b'Quark'\", numFriends=283), Row(ID=51, age=36, name=\"b'Lwaxana'\", numFriends=212), Row(ID=52, age=19, name=\"b'Beverly'\", numFriends=269), Row(ID=53, age=62, name=\"b'Geordi'\", numFriends=31), Row(ID=54, age=19, name=\"b'Brunt'\", numFriends=5), Row(ID=55, age=41, name=\"b'Keiko'\", numFriends=278), Row(ID=56, age=44, name=\"b'Gowron'\", numFriends=194), Row(ID=57, age=57, name=\"b'Odo'\", numFriends=294), Row(ID=58, age=59, name=\"b'Hugh'\", numFriends=158), Row(ID=59, age=59, name=\"b'Morn'\", numFriends=284), Row(ID=60, age=20, name=\"b'Geordi'\", numFriends=100), Row(ID=61, age=62, name=\"b'Kasidy'\", numFriends=442), Row(ID=62, age=69, name=\"b'Keiko'\", numFriends=9), Row(ID=63, age=58, name=\"b'Jean-Luc'\", numFriends=54), Row(ID=64, age=31, name=\"b'Elim'\", numFriends=15), Row(ID=65, age=52, name=\"b'Guinan'\", numFriends=169), Row(ID=66, age=21, name=\"b'Geordi'\", numFriends=477), Row(ID=67, age=48, name=\"b'Jadzia'\", numFriends=135), Row(ID=68, age=33, name=\"b'Guinan'\", numFriends=74), Row(ID=69, age=30, name=\"b'Jean-Luc'\", numFriends=204), Row(ID=70, age=52, name=\"b'Brunt'\", numFriends=393), Row(ID=71, age=45, name=\"b'Geordi'\", numFriends=184), Row(ID=72, age=22, name=\"b'Kasidy'\", numFriends=179), Row(ID=73, age=20, name=\"b'Brunt'\", numFriends=384), Row(ID=74, age=65, name=\"b'Leeta'\", numFriends=208), Row(ID=75, age=40, name=\"b'Morn'\", numFriends=459), Row(ID=76, age=62, name=\"b'Will'\", numFriends=201), Row(ID=77, age=40, name=\"b'Weyoun'\", numFriends=407), Row(ID=78, age=61, name=\"b'Data'\", numFriends=337), Row(ID=79, age=58, name=\"b'Leeta'\", numFriends=348), Row(ID=80, age=67, name=\"b'Dukat'\", numFriends=445), Row(ID=81, age=54, name=\"b'Jadzia'\", numFriends=440), Row(ID=82, age=57, name=\"b'Hugh'\", numFriends=465), Row(ID=83, age=32, name=\"b'Geordi'\", numFriends=308), Row(ID=84, age=28, name=\"b'Ben'\", numFriends=311), Row(ID=85, age=66, name=\"b'Quark'\", numFriends=383), Row(ID=86, age=55, name=\"b'Hugh'\", numFriends=257), Row(ID=87, age=31, name=\"b'Ezri'\", numFriends=481), Row(ID=88, age=66, name=\"b'Ben'\", numFriends=188), Row(ID=89, age=24, name=\"b'Worf'\", numFriends=492), Row(ID=90, age=33, name=\"b'Kasidy'\", numFriends=471), Row(ID=91, age=46, name=\"b'Rom'\", numFriends=88), Row(ID=92, age=54, name=\"b'Gowron'\", numFriends=7), Row(ID=93, age=46, name=\"b'Elim'\", numFriends=63), Row(ID=94, age=62, name=\"b'Morn'\", numFriends=133), Row(ID=95, age=29, name=\"b'Odo'\", numFriends=173), Row(ID=96, age=25, name=\"b'Ezri'\", numFriends=233), Row(ID=97, age=69, name=\"b'Nerys'\", numFriends=361), Row(ID=98, age=44, name=\"b'Will'\", numFriends=178), Row(ID=99, age=69, name=\"b'Keiko'\", numFriends=491), Row(ID=100, age=61, name=\"b'Jean-Luc'\", numFriends=460), Row(ID=101, age=67, name=\"b'Morn'\", numFriends=123), Row(ID=102, age=40, name=\"b'Dukat'\", numFriends=18), Row(ID=103, age=61, name=\"b'Ezri'\", numFriends=2), Row(ID=104, age=32, name=\"b'Dukat'\", numFriends=142), Row(ID=105, age=50, name=\"b'Morn'\", numFriends=417), Row(ID=106, age=18, name=\"b'Beverly'\", numFriends=499), Row(ID=107, age=64, name=\"b'Will'\", numFriends=419), Row(ID=108, age=25, name=\"b'Leeta'\", numFriends=274), Row(ID=109, age=53, name=\"b'Quark'\", numFriends=417), Row(ID=110, age=64, name=\"b'Nog'\", numFriends=137), Row(ID=111, age=37, name=\"b'Nerys'\", numFriends=46), Row(ID=112, age=25, name=\"b'Morn'\", numFriends=13), Row(ID=113, age=41, name=\"b'Quark'\", numFriends=244), Row(ID=114, age=33, name=\"b'Worf'\", numFriends=275), Row(ID=115, age=18, name=\"b'Dukat'\", numFriends=397), Row(ID=116, age=69, name=\"b'Ben'\", numFriends=75), Row(ID=117, age=52, name=\"b'Rom'\", numFriends=487), Row(ID=118, age=28, name=\"b'Ben'\", numFriends=304), Row(ID=119, age=29, name=\"b'Worf'\", numFriends=344), Row(ID=120, age=68, name=\"b'Jean-Luc'\", numFriends=264), Row(ID=121, age=35, name=\"b'Deanna'\", numFriends=355), Row(ID=122, age=45, name=\"b'Data'\", numFriends=400), Row(ID=123, age=45, name=\"b'Jadzia'\", numFriends=439), Row(ID=124, age=47, name=\"b'Data'\", numFriends=429), Row(ID=125, age=66, name=\"b'Rom'\", numFriends=284), Row(ID=126, age=26, name=\"b'Brunt'\", numFriends=84), Row(ID=127, age=40, name=\"b'Miles'\", numFriends=284), Row(ID=128, age=34, name=\"b'Julian'\", numFriends=221), Row(ID=129, age=45, name=\"b'Kasidy'\", numFriends=252), Row(ID=130, age=67, name=\"b'Gowron'\", numFriends=350), Row(ID=131, age=65, name=\"b'Hugh'\", numFriends=309), Row(ID=132, age=46, name=\"b'Odo'\", numFriends=462), Row(ID=133, age=19, name=\"b'Quark'\", numFriends=265), Row(ID=134, age=45, name=\"b'Ben'\", numFriends=340), Row(ID=135, age=42, name=\"b'Rom'\", numFriends=427), Row(ID=136, age=19, name=\"b'Will'\", numFriends=335), Row(ID=137, age=28, name=\"b'Martok'\", numFriends=32), Row(ID=138, age=32, name=\"b'Dukat'\", numFriends=384), Row(ID=139, age=36, name=\"b'Nog'\", numFriends=193), Row(ID=140, age=64, name=\"b'Elim'\", numFriends=234), Row(ID=141, age=36, name=\"b'Miles'\", numFriends=424), Row(ID=142, age=59, name=\"b'Guinan'\", numFriends=335), Row(ID=143, age=60, name=\"b'Data'\", numFriends=124), Row(ID=144, age=22, name=\"b'Miles'\", numFriends=93), Row(ID=145, age=45, name=\"b'Leeta'\", numFriends=470), Row(ID=146, age=58, name=\"b'Nerys'\", numFriends=174), Row(ID=147, age=61, name=\"b'Quark'\", numFriends=373), Row(ID=148, age=39, name=\"b'Nerys'\", numFriends=248), Row(ID=149, age=49, name=\"b'Beverly'\", numFriends=340), Row(ID=150, age=55, name=\"b'Nerys'\", numFriends=313), Row(ID=151, age=54, name=\"b'Keiko'\", numFriends=441), Row(ID=152, age=54, name=\"b'Kasidy'\", numFriends=235), Row(ID=153, age=63, name=\"b'Morn'\", numFriends=342), Row(ID=154, age=40, name=\"b'Geordi'\", numFriends=389), Row(ID=155, age=50, name=\"b'Beverly'\", numFriends=126), Row(ID=156, age=44, name=\"b'Deanna'\", numFriends=360), Row(ID=157, age=34, name=\"b'Dukat'\", numFriends=319), Row(ID=158, age=31, name=\"b'Odo'\", numFriends=340), Row(ID=159, age=67, name=\"b'Kasidy'\", numFriends=438), Row(ID=160, age=58, name=\"b'Beverly'\", numFriends=112), Row(ID=161, age=39, name=\"b'Odo'\", numFriends=207), Row(ID=162, age=59, name=\"b'Ezri'\", numFriends=14), Row(ID=163, age=67, name=\"b'Nerys'\", numFriends=204), Row(ID=164, age=31, name=\"b'Will'\", numFriends=172), Row(ID=165, age=26, name=\"b'Leeta'\", numFriends=282), Row(ID=166, age=25, name=\"b'Lwaxana'\", numFriends=10), Row(ID=167, age=48, name=\"b'Quark'\", numFriends=57), Row(ID=168, age=68, name=\"b'Martok'\", numFriends=112), Row(ID=169, age=53, name=\"b'Beverly'\", numFriends=92), Row(ID=170, age=68, name=\"b'Jean-Luc'\", numFriends=490), Row(ID=171, age=29, name=\"b'Weyoun'\", numFriends=126), Row(ID=172, age=55, name=\"b'Kasidy'\", numFriends=204), Row(ID=173, age=23, name=\"b'Leeta'\", numFriends=129), Row(ID=174, age=47, name=\"b'Deanna'\", numFriends=87), Row(ID=175, age=38, name=\"b'Will'\", numFriends=459), Row(ID=176, age=55, name=\"b'Worf'\", numFriends=474), Row(ID=177, age=67, name=\"b'Brunt'\", numFriends=316), Row(ID=178, age=26, name=\"b'Kasidy'\", numFriends=381), Row(ID=179, age=37, name=\"b'Elim'\", numFriends=426), Row(ID=180, age=30, name=\"b'Kasidy'\", numFriends=108), Row(ID=181, age=43, name=\"b'Rom'\", numFriends=404), Row(ID=182, age=26, name=\"b'Weyoun'\", numFriends=145), Row(ID=183, age=47, name=\"b'Ben'\", numFriends=488), Row(ID=184, age=44, name=\"b'Julian'\", numFriends=84), Row(ID=185, age=48, name=\"b'Weyoun'\", numFriends=287), Row(ID=186, age=31, name=\"b'Miles'\", numFriends=109), Row(ID=187, age=47, name=\"b'Nerys'\", numFriends=225), Row(ID=188, age=54, name=\"b'Keiko'\", numFriends=369), Row(ID=189, age=62, name=\"b'Quark'\", numFriends=23), Row(ID=190, age=60, name=\"b'Geordi'\", numFriends=294), Row(ID=191, age=40, name=\"b'Nog'\", numFriends=349), Row(ID=192, age=45, name=\"b'Jadzia'\", numFriends=497), Row(ID=193, age=60, name=\"b'Nerys'\", numFriends=125), Row(ID=194, age=38, name=\"b'Kasidy'\", numFriends=2), Row(ID=195, age=30, name=\"b'Ben'\", numFriends=376), Row(ID=196, age=38, name=\"b'Data'\", numFriends=173), Row(ID=197, age=38, name=\"b'Leeta'\", numFriends=76), Row(ID=198, age=48, name=\"b'Brunt'\", numFriends=381), Row(ID=199, age=38, name=\"b'Hugh'\", numFriends=180), Row(ID=200, age=21, name=\"b'Kasidy'\", numFriends=472), Row(ID=201, age=23, name=\"b'Ezri'\", numFriends=174), Row(ID=202, age=63, name=\"b'Lwaxana'\", numFriends=469), Row(ID=203, age=46, name=\"b'Ezri'\", numFriends=125), Row(ID=204, age=64, name=\"b'Deanna'\", numFriends=164), Row(ID=205, age=69, name=\"b'Morn'\", numFriends=236), Row(ID=206, age=21, name=\"b'Will'\", numFriends=491), Row(ID=207, age=41, name=\"b'Lwaxana'\", numFriends=206), Row(ID=208, age=37, name=\"b'Nog'\", numFriends=271), Row(ID=209, age=27, name=\"b'Brunt'\", numFriends=174), Row(ID=210, age=33, name=\"b'Data'\", numFriends=245), Row(ID=211, age=61, name=\"b'Ben'\", numFriends=73), Row(ID=212, age=55, name=\"b'Geordi'\", numFriends=284), Row(ID=213, age=28, name=\"b'Worf'\", numFriends=312), Row(ID=214, age=32, name=\"b'Miles'\", numFriends=182), Row(ID=215, age=22, name=\"b'Will'\", numFriends=6), Row(ID=216, age=34, name=\"b'Brunt'\", numFriends=116), Row(ID=217, age=29, name=\"b'Keiko'\", numFriends=260), Row(ID=218, age=66, name=\"b'Gowron'\", numFriends=350), Row(ID=219, age=26, name=\"b'Lwaxana'\", numFriends=345), Row(ID=220, age=41, name=\"b'Jean-Luc'\", numFriends=394), Row(ID=221, age=27, name=\"b'Dukat'\", numFriends=150), Row(ID=222, age=34, name=\"b'Rom'\", numFriends=346), Row(ID=223, age=40, name=\"b'Odo'\", numFriends=406), Row(ID=224, age=44, name=\"b'Keiko'\", numFriends=277), Row(ID=225, age=19, name=\"b'Elim'\", numFriends=106), Row(ID=226, age=37, name=\"b'Lwaxana'\", numFriends=207), Row(ID=227, age=40, name=\"b'Ezri'\", numFriends=198), Row(ID=228, age=26, name=\"b'Martok'\", numFriends=293), Row(ID=229, age=24, name=\"b'Gowron'\", numFriends=150), Row(ID=230, age=54, name=\"b'Beverly'\", numFriends=397), Row(ID=231, age=59, name=\"b'Ezri'\", numFriends=42), Row(ID=232, age=68, name=\"b'Worf'\", numFriends=481), Row(ID=233, age=67, name=\"b'Gowron'\", numFriends=70), Row(ID=234, age=49, name=\"b'Deanna'\", numFriends=22), Row(ID=235, age=57, name=\"b'Elim'\", numFriends=8), Row(ID=236, age=62, name=\"b'Brunt'\", numFriends=442), Row(ID=237, age=61, name=\"b'Nerys'\", numFriends=469), Row(ID=238, age=25, name=\"b'Deanna'\", numFriends=305), Row(ID=239, age=48, name=\"b'Nog'\", numFriends=345), Row(ID=240, age=46, name=\"b'Deanna'\", numFriends=154), Row(ID=241, age=45, name=\"b'Quark'\", numFriends=332), Row(ID=242, age=25, name=\"b'Data'\", numFriends=101), Row(ID=243, age=61, name=\"b'Martok'\", numFriends=68), Row(ID=244, age=21, name=\"b'Dukat'\", numFriends=471), Row(ID=245, age=28, name=\"b'Jean-Luc'\", numFriends=174), Row(ID=246, age=41, name=\"b'Leeta'\", numFriends=260), Row(ID=247, age=52, name=\"b'Ezri'\", numFriends=338), Row(ID=248, age=21, name=\"b'Dukat'\", numFriends=138), Row(ID=249, age=66, name=\"b'Nerys'\", numFriends=41), Row(ID=250, age=36, name=\"b'Hugh'\", numFriends=342), Row(ID=251, age=55, name=\"b'Rom'\", numFriends=57), Row(ID=252, age=36, name=\"b'Will'\", numFriends=174), Row(ID=253, age=69, name=\"b'Leeta'\", numFriends=116), Row(ID=254, age=67, name=\"b'Ezri'\", numFriends=79), Row(ID=255, age=60, name=\"b'Deanna'\", numFriends=324), Row(ID=256, age=32, name=\"b'Worf'\", numFriends=412), Row(ID=257, age=51, name=\"b'Data'\", numFriends=161), Row(ID=258, age=68, name=\"b'Worf'\", numFriends=217), Row(ID=259, age=29, name=\"b'Kasidy'\", numFriends=11), Row(ID=260, age=38, name=\"b'Brunt'\", numFriends=96), Row(ID=261, age=40, name=\"b'Jadzia'\", numFriends=172), Row(ID=262, age=51, name=\"b'Will'\", numFriends=334), Row(ID=263, age=40, name=\"b'Martok'\", numFriends=33), Row(ID=264, age=29, name=\"b'Julian'\", numFriends=228), Row(ID=265, age=27, name=\"b'Gowron'\", numFriends=471), Row(ID=266, age=66, name=\"b'Jean-Luc'\", numFriends=496), Row(ID=267, age=49, name=\"b'Dukat'\", numFriends=106), Row(ID=268, age=26, name=\"b'Ezri'\", numFriends=298), Row(ID=269, age=55, name=\"b'Beverly'\", numFriends=289), Row(ID=270, age=44, name=\"b'Data'\", numFriends=353), Row(ID=271, age=25, name=\"b'Morn'\", numFriends=446), Row(ID=272, age=29, name=\"b'Quark'\", numFriends=367), Row(ID=273, age=51, name=\"b'Data'\", numFriends=493), Row(ID=274, age=64, name=\"b'Julian'\", numFriends=244), Row(ID=275, age=47, name=\"b'Will'\", numFriends=13), Row(ID=276, age=54, name=\"b'Dukat'\", numFriends=462), Row(ID=277, age=46, name=\"b'Hugh'\", numFriends=300), Row(ID=278, age=44, name=\"b'Data'\", numFriends=499), Row(ID=279, age=23, name=\"b'Beverly'\", numFriends=133), Row(ID=280, age=26, name=\"b'Nerys'\", numFriends=492), Row(ID=281, age=21, name=\"b'Worf'\", numFriends=89), Row(ID=282, age=32, name=\"b'Geordi'\", numFriends=404), Row(ID=283, age=65, name=\"b'Dukat'\", numFriends=443), Row(ID=284, age=26, name=\"b'Nog'\", numFriends=269), Row(ID=285, age=43, name=\"b'Data'\", numFriends=101), Row(ID=286, age=30, name=\"b'Lwaxana'\", numFriends=384), Row(ID=287, age=64, name=\"b'Beverly'\", numFriends=396), Row(ID=288, age=56, name=\"b'Hugh'\", numFriends=354), Row(ID=289, age=30, name=\"b'Ezri'\", numFriends=221), Row(ID=290, age=62, name=\"b'Beverly'\", numFriends=290), Row(ID=291, age=23, name=\"b'Dukat'\", numFriends=373), Row(ID=292, age=63, name=\"b'Nog'\", numFriends=380), Row(ID=293, age=23, name=\"b'Deanna'\", numFriends=65), Row(ID=294, age=38, name=\"b'Leeta'\", numFriends=410), Row(ID=295, age=40, name=\"b'Nerys'\", numFriends=56), Row(ID=296, age=38, name=\"b'Data'\", numFriends=454), Row(ID=297, age=45, name=\"b'Ben'\", numFriends=395), Row(ID=298, age=57, name=\"b'Guinan'\", numFriends=207), Row(ID=299, age=57, name=\"b'Rom'\", numFriends=311), Row(ID=300, age=49, name=\"b'Beverly'\", numFriends=147), Row(ID=301, age=28, name=\"b'Weyoun'\", numFriends=108), Row(ID=302, age=37, name=\"b'Beverly'\", numFriends=263), Row(ID=303, age=46, name=\"b'Deanna'\", numFriends=319), Row(ID=304, age=19, name=\"b'Will'\", numFriends=404), Row(ID=305, age=29, name=\"b'Quark'\", numFriends=182), Row(ID=306, age=23, name=\"b'Beverly'\", numFriends=323), Row(ID=307, age=41, name=\"b'Keiko'\", numFriends=340), Row(ID=308, age=45, name=\"b'Morn'\", numFriends=59), Row(ID=309, age=67, name=\"b'Geordi'\", numFriends=153), Row(ID=310, age=68, name=\"b'Odo'\", numFriends=189), Row(ID=311, age=43, name=\"b'Martok'\", numFriends=48), Row(ID=312, age=61, name=\"b'Jadzia'\", numFriends=421), Row(ID=313, age=59, name=\"b'Dukat'\", numFriends=169), Row(ID=314, age=36, name=\"b'Geordi'\", numFriends=168), Row(ID=315, age=25, name=\"b'Weyoun'\", numFriends=208), Row(ID=316, age=64, name=\"b'Hugh'\", numFriends=391), Row(ID=317, age=59, name=\"b'Guinan'\", numFriends=439), Row(ID=318, age=35, name=\"b'Deanna'\", numFriends=251), Row(ID=319, age=30, name=\"b'Leeta'\", numFriends=476), Row(ID=320, age=62, name=\"b'Worf'\", numFriends=450), Row(ID=321, age=44, name=\"b'Data'\", numFriends=61), Row(ID=322, age=58, name=\"b'Rom'\", numFriends=92), Row(ID=323, age=29, name=\"b'Nog'\", numFriends=236), Row(ID=324, age=56, name=\"b'Miles'\", numFriends=343), Row(ID=325, age=51, name=\"b'Keiko'\", numFriends=492), Row(ID=326, age=46, name=\"b'Beverly'\", numFriends=407), Row(ID=327, age=20, name=\"b'Julian'\", numFriends=63), Row(ID=328, age=62, name=\"b'Deanna'\", numFriends=41), Row(ID=329, age=67, name=\"b'Dukat'\", numFriends=35), Row(ID=330, age=33, name=\"b'Ezri'\", numFriends=356), Row(ID=331, age=30, name=\"b'Martok'\", numFriends=17), Row(ID=332, age=55, name=\"b'Julian'\", numFriends=362), Row(ID=333, age=29, name=\"b'Ben'\", numFriends=207), Row(ID=334, age=40, name=\"b'Leeta'\", numFriends=7), Row(ID=335, age=27, name=\"b'Odo'\", numFriends=337), Row(ID=336, age=47, name=\"b'Gowron'\", numFriends=4), Row(ID=337, age=58, name=\"b'Miles'\", numFriends=10), Row(ID=338, age=28, name=\"b'Will'\", numFriends=180), Row(ID=339, age=66, name=\"b'Morn'\", numFriends=305), Row(ID=340, age=57, name=\"b'Nerys'\", numFriends=275), Row(ID=341, age=18, name=\"b'Data'\", numFriends=326), Row(ID=342, age=46, name=\"b'Guinan'\", numFriends=151), Row(ID=343, age=26, name=\"b'Odo'\", numFriends=254), Row(ID=344, age=30, name=\"b'Data'\", numFriends=487), Row(ID=345, age=31, name=\"b'Ezri'\", numFriends=394), Row(ID=346, age=29, name=\"b'Hugh'\", numFriends=329), Row(ID=347, age=32, name=\"b'Geordi'\", numFriends=24), Row(ID=348, age=33, name=\"b'Weyoun'\", numFriends=460), Row(ID=349, age=20, name=\"b'Kasidy'\", numFriends=277), Row(ID=350, age=55, name=\"b'Nog'\", numFriends=464), Row(ID=351, age=54, name=\"b'Keiko'\", numFriends=72), Row(ID=352, age=27, name=\"b'Deanna'\", numFriends=53), Row(ID=353, age=64, name=\"b'Julian'\", numFriends=499), Row(ID=354, age=69, name=\"b'Kasidy'\", numFriends=15), Row(ID=355, age=46, name=\"b'Keiko'\", numFriends=352), Row(ID=356, age=67, name=\"b'Weyoun'\", numFriends=149), Row(ID=357, age=26, name=\"b'Brunt'\", numFriends=7), Row(ID=358, age=52, name=\"b'Will'\", numFriends=276), Row(ID=359, age=54, name=\"b'Nog'\", numFriends=442), Row(ID=360, age=39, name=\"b'Nerys'\", numFriends=68), Row(ID=361, age=68, name=\"b'Worf'\", numFriends=206), Row(ID=362, age=39, name=\"b'Ezri'\", numFriends=120), Row(ID=363, age=41, name=\"b'Dukat'\", numFriends=397), Row(ID=364, age=54, name=\"b'Lwaxana'\", numFriends=115), Row(ID=365, age=65, name=\"b'Brunt'\", numFriends=430), Row(ID=366, age=19, name=\"b'Keiko'\", numFriends=119), Row(ID=367, age=39, name=\"b'Data'\", numFriends=106), Row(ID=368, age=26, name=\"b'Elim'\", numFriends=383), Row(ID=369, age=48, name=\"b'Quark'\", numFriends=266), Row(ID=370, age=53, name=\"b'Jadzia'\", numFriends=86), Row(ID=371, age=31, name=\"b'Guinan'\", numFriends=435), Row(ID=372, age=62, name=\"b'Brunt'\", numFriends=273), Row(ID=373, age=19, name=\"b'Quark'\", numFriends=272), Row(ID=374, age=68, name=\"b'Nog'\", numFriends=293), Row(ID=375, age=66, name=\"b'Hugh'\", numFriends=201), Row(ID=376, age=23, name=\"b'Gowron'\", numFriends=392), Row(ID=377, age=18, name=\"b'Beverly'\", numFriends=418), Row(ID=378, age=47, name=\"b'Guinan'\", numFriends=97), Row(ID=379, age=60, name=\"b'Data'\", numFriends=304), Row(ID=380, age=35, name=\"b'Brunt'\", numFriends=65), Row(ID=381, age=38, name=\"b'Nog'\", numFriends=95), Row(ID=382, age=66, name=\"b'Worf'\", numFriends=240), Row(ID=383, age=69, name=\"b'Data'\", numFriends=148), Row(ID=384, age=67, name=\"b'Martok'\", numFriends=355), Row(ID=385, age=57, name=\"b'Beverly'\", numFriends=436), Row(ID=386, age=35, name=\"b'Data'\", numFriends=428), Row(ID=387, age=43, name=\"b'Will'\", numFriends=335), Row(ID=388, age=30, name=\"b'Nog'\", numFriends=184), Row(ID=389, age=38, name=\"b'Weyoun'\", numFriends=38), Row(ID=390, age=22, name=\"b'Martok'\", numFriends=266), Row(ID=391, age=64, name=\"b'Ben'\", numFriends=309), Row(ID=392, age=64, name=\"b'Data'\", numFriends=343), Row(ID=393, age=50, name=\"b'Quark'\", numFriends=436), Row(ID=394, age=23, name=\"b'Keiko'\", numFriends=230), Row(ID=395, age=56, name=\"b'Jean-Luc'\", numFriends=15), Row(ID=396, age=67, name=\"b'Keiko'\", numFriends=38), Row(ID=397, age=69, name=\"b'Quark'\", numFriends=470), Row(ID=398, age=26, name=\"b'Lwaxana'\", numFriends=124), Row(ID=399, age=24, name=\"b'Beverly'\", numFriends=401), Row(ID=400, age=29, name=\"b'Data'\", numFriends=128), Row(ID=401, age=42, name=\"b'Jean-Luc'\", numFriends=467), Row(ID=402, age=58, name=\"b'Hugh'\", numFriends=98), Row(ID=403, age=21, name=\"b'Weyoun'\", numFriends=224), Row(ID=404, age=18, name=\"b'Kasidy'\", numFriends=24), Row(ID=405, age=56, name=\"b'Nog'\", numFriends=371), Row(ID=406, age=57, name=\"b'Ben'\", numFriends=121), Row(ID=407, age=36, name=\"b'Miles'\", numFriends=68), Row(ID=408, age=62, name=\"b'Dukat'\", numFriends=496), Row(ID=409, age=19, name=\"b'Nog'\", numFriends=267), Row(ID=410, age=35, name=\"b'Odo'\", numFriends=299), Row(ID=411, age=58, name=\"b'Lwaxana'\", numFriends=22), Row(ID=412, age=53, name=\"b'Jadzia'\", numFriends=451), Row(ID=413, age=45, name=\"b'Hugh'\", numFriends=147), Row(ID=414, age=56, name=\"b'Martok'\", numFriends=313), Row(ID=415, age=30, name=\"b'Quark'\", numFriends=65), Row(ID=416, age=33, name=\"b'Nerys'\", numFriends=294), Row(ID=417, age=37, name=\"b'Julian'\", numFriends=106), Row(ID=418, age=32, name=\"b'Guinan'\", numFriends=212), Row(ID=419, age=55, name=\"b'Kasidy'\", numFriends=176), Row(ID=420, age=26, name=\"b'Jadzia'\", numFriends=391), Row(ID=421, age=40, name=\"b'Will'\", numFriends=261), Row(ID=422, age=67, name=\"b'Ben'\", numFriends=292), Row(ID=423, age=44, name=\"b'Will'\", numFriends=388), Row(ID=424, age=55, name=\"b'Keiko'\", numFriends=470), Row(ID=425, age=33, name=\"b'Quark'\", numFriends=243), Row(ID=426, age=24, name=\"b'Worf'\", numFriends=77), Row(ID=427, age=28, name=\"b'Brunt'\", numFriends=258), Row(ID=428, age=68, name=\"b'Lwaxana'\", numFriends=423), Row(ID=429, age=63, name=\"b'Jean-Luc'\", numFriends=345), Row(ID=430, age=36, name=\"b'Geordi'\", numFriends=493), Row(ID=431, age=36, name=\"b'Quark'\", numFriends=343), Row(ID=432, age=45, name=\"b'Brunt'\", numFriends=54), Row(ID=433, age=38, name=\"b'Ezri'\", numFriends=203), Row(ID=434, age=57, name=\"b'Deanna'\", numFriends=289), Row(ID=435, age=42, name=\"b'Guinan'\", numFriends=275), Row(ID=436, age=57, name=\"b'Geordi'\", numFriends=229), Row(ID=437, age=59, name=\"b'Morn'\", numFriends=221), Row(ID=438, age=42, name=\"b'Nog'\", numFriends=95), Row(ID=439, age=18, name=\"b'Data'\", numFriends=417), Row(ID=440, age=48, name=\"b'Elim'\", numFriends=394), Row(ID=441, age=38, name=\"b'Jadzia'\", numFriends=143), Row(ID=442, age=46, name=\"b'Nog'\", numFriends=105), Row(ID=443, age=64, name=\"b'Geordi'\", numFriends=175), Row(ID=444, age=18, name=\"b'Keiko'\", numFriends=472), Row(ID=445, age=40, name=\"b'Guinan'\", numFriends=286), Row(ID=446, age=32, name=\"b'Quark'\", numFriends=41), Row(ID=447, age=38, name=\"b'Julian'\", numFriends=34), Row(ID=448, age=48, name=\"b'Nerys'\", numFriends=439), Row(ID=449, age=52, name=\"b'Data'\", numFriends=419), Row(ID=450, age=37, name=\"b'Weyoun'\", numFriends=234), Row(ID=451, age=28, name=\"b'Martok'\", numFriends=34), Row(ID=452, age=58, name=\"b'Ezri'\", numFriends=6), Row(ID=453, age=44, name=\"b'Julian'\", numFriends=337), Row(ID=454, age=52, name=\"b'Weyoun'\", numFriends=456), Row(ID=455, age=33, name=\"b'Elim'\", numFriends=463), Row(ID=456, age=37, name=\"b'Ezri'\", numFriends=471), Row(ID=457, age=51, name=\"b'Worf'\", numFriends=81), Row(ID=458, age=44, name=\"b'Elim'\", numFriends=335), Row(ID=459, age=26, name=\"b'Geordi'\", numFriends=84), Row(ID=460, age=47, name=\"b'Hugh'\", numFriends=400), Row(ID=461, age=41, name=\"b'Geordi'\", numFriends=236), Row(ID=462, age=23, name=\"b'Nerys'\", numFriends=287), Row(ID=463, age=40, name=\"b'Keiko'\", numFriends=220), Row(ID=464, age=25, name=\"b'Beverly'\", numFriends=485), Row(ID=465, age=53, name=\"b'Morn'\", numFriends=126), Row(ID=466, age=33, name=\"b'Brunt'\", numFriends=228), Row(ID=467, age=42, name=\"b'Weyoun'\", numFriends=194), Row(ID=468, age=46, name=\"b'Ezri'\", numFriends=227), Row(ID=469, age=55, name=\"b'Brunt'\", numFriends=271), Row(ID=470, age=38, name=\"b'Deanna'\", numFriends=160), Row(ID=471, age=52, name=\"b'Brunt'\", numFriends=273), Row(ID=472, age=27, name=\"b'Nog'\", numFriends=154), Row(ID=473, age=35, name=\"b'Morn'\", numFriends=38), Row(ID=474, age=34, name=\"b'Keiko'\", numFriends=48), Row(ID=475, age=52, name=\"b'Ben'\", numFriends=446), Row(ID=476, age=28, name=\"b'Jean-Luc'\", numFriends=378), Row(ID=477, age=50, name=\"b'Gowron'\", numFriends=119), Row(ID=478, age=41, name=\"b'Dukat'\", numFriends=62), Row(ID=479, age=44, name=\"b'Kasidy'\", numFriends=320), Row(ID=480, age=43, name=\"b'Geordi'\", numFriends=428), Row(ID=481, age=32, name=\"b'Elim'\", numFriends=97), Row(ID=482, age=48, name=\"b'Ben'\", numFriends=146), Row(ID=483, age=57, name=\"b'Hugh'\", numFriends=99), Row(ID=484, age=22, name=\"b'Leeta'\", numFriends=478), Row(ID=485, age=47, name=\"b'Rom'\", numFriends=356), Row(ID=486, age=49, name=\"b'Elim'\", numFriends=17), Row(ID=487, age=69, name=\"b'Brunt'\", numFriends=431), Row(ID=488, age=61, name=\"b'Nog'\", numFriends=103), Row(ID=489, age=33, name=\"b'Odo'\", numFriends=410), Row(ID=490, age=65, name=\"b'Nerys'\", numFriends=101), Row(ID=491, age=60, name=\"b'Rom'\", numFriends=2), Row(ID=492, age=19, name=\"b'Dukat'\", numFriends=36), Row(ID=493, age=23, name=\"b'Hugh'\", numFriends=357), Row(ID=494, age=18, name=\"b'Kasidy'\", numFriends=194), Row(ID=495, age=46, name=\"b'Data'\", numFriends=155), Row(ID=496, age=39, name=\"b'Gowron'\", numFriends=275), Row(ID=497, age=34, name=\"b'Lwaxana'\", numFriends=423), Row(ID=498, age=62, name=\"b'Jadzia'\", numFriends=36), Row(ID=499, age=62, name=\"b'Leeta'\", numFriends=12)]\n"
     ]
    }
   ],
   "source": [
    "def mapper(line):\n",
    "    fields = line.split(',')\n",
    "    return Row(ID=int(fields[0]), name=str(fields[1].encode(\"utf-8\")), age=int(fields[2]), numFriends=int(fields[3]))\n",
    "\n",
    "lines = spark.sparkContext.textFile(\"file:///home/hashimyousaf/spark-2.4.0-bin-hadoop2.7/bin/jupyter-scripts/dataset/friends/fakefriends.csv\")\n",
    "people = lines.map(mapper)\n",
    "print(people.collect())"
   ]
  },
  {
   "cell_type": "code",
   "execution_count": 4,
   "metadata": {},
   "outputs": [],
   "source": [
    "\n",
    "# Infer the schema, and register the DataFrame as a table.\n",
    "schemaPeople = spark.createDataFrame(people).cache()\n",
    "schemaPeople.createOrReplaceTempView(\"people\")"
   ]
  },
  {
   "cell_type": "code",
   "execution_count": 5,
   "metadata": {},
   "outputs": [],
   "source": [
    "# SQL can be run over DataFrames that have been registered as a table.\n",
    "teenagers = spark.sql(\"SELECT * FROM people WHERE age >= 13 AND age <= 19\")"
   ]
  },
  {
   "cell_type": "code",
   "execution_count": 6,
   "metadata": {},
   "outputs": [
    {
     "name": "stdout",
     "output_type": "stream",
     "text": [
      "Row(ID=21, age=19, name=\"b'Miles'\", numFriends=268)\n",
      "Row(ID=52, age=19, name=\"b'Beverly'\", numFriends=269)\n",
      "Row(ID=54, age=19, name=\"b'Brunt'\", numFriends=5)\n",
      "Row(ID=106, age=18, name=\"b'Beverly'\", numFriends=499)\n",
      "Row(ID=115, age=18, name=\"b'Dukat'\", numFriends=397)\n",
      "Row(ID=133, age=19, name=\"b'Quark'\", numFriends=265)\n",
      "Row(ID=136, age=19, name=\"b'Will'\", numFriends=335)\n",
      "Row(ID=225, age=19, name=\"b'Elim'\", numFriends=106)\n",
      "Row(ID=304, age=19, name=\"b'Will'\", numFriends=404)\n",
      "Row(ID=341, age=18, name=\"b'Data'\", numFriends=326)\n",
      "Row(ID=366, age=19, name=\"b'Keiko'\", numFriends=119)\n",
      "Row(ID=373, age=19, name=\"b'Quark'\", numFriends=272)\n",
      "Row(ID=377, age=18, name=\"b'Beverly'\", numFriends=418)\n",
      "Row(ID=404, age=18, name=\"b'Kasidy'\", numFriends=24)\n",
      "Row(ID=409, age=19, name=\"b'Nog'\", numFriends=267)\n",
      "Row(ID=439, age=18, name=\"b'Data'\", numFriends=417)\n",
      "Row(ID=444, age=18, name=\"b'Keiko'\", numFriends=472)\n",
      "Row(ID=492, age=19, name=\"b'Dukat'\", numFriends=36)\n",
      "Row(ID=494, age=18, name=\"b'Kasidy'\", numFriends=194)\n"
     ]
    }
   ],
   "source": [
    "# The results of SQL queries are RDDs and support all the normal RDD operations.\n",
    "for teen in teenagers.collect():\n",
    "  print(teen)"
   ]
  },
  {
   "cell_type": "code",
   "execution_count": 7,
   "metadata": {},
   "outputs": [
    {
     "name": "stdout",
     "output_type": "stream",
     "text": [
      "+---+-----+\n",
      "|age|count|\n",
      "+---+-----+\n",
      "| 18|    8|\n",
      "| 19|   11|\n",
      "| 20|    5|\n",
      "| 21|    8|\n",
      "| 22|    7|\n",
      "| 23|   10|\n",
      "| 24|    5|\n",
      "| 25|   11|\n",
      "| 26|   17|\n",
      "| 27|    8|\n",
      "| 28|   10|\n",
      "| 29|   12|\n",
      "| 30|   11|\n",
      "| 31|    8|\n",
      "| 32|   11|\n",
      "| 33|   12|\n",
      "| 34|    6|\n",
      "| 35|    8|\n",
      "| 36|   10|\n",
      "| 37|    9|\n",
      "+---+-----+\n",
      "only showing top 20 rows\n",
      "\n"
     ]
    }
   ],
   "source": [
    "# We can also use functions instead of SQL queries:\n",
    "schemaPeople.groupBy(\"age\").count().orderBy(\"age\").show()\n",
    "\n",
    "spark.stop()"
   ]
  },
  {
   "cell_type": "code",
   "execution_count": null,
   "metadata": {},
   "outputs": [],
   "source": []
  }
 ],
 "metadata": {
  "kernelspec": {
   "display_name": "Python 3",
   "language": "python",
   "name": "python3"
  },
  "language_info": {
   "codemirror_mode": {
    "name": "ipython",
    "version": 3
   },
   "file_extension": ".py",
   "mimetype": "text/x-python",
   "name": "python",
   "nbconvert_exporter": "python",
   "pygments_lexer": "ipython3",
   "version": "3.7.1"
  }
 },
 "nbformat": 4,
 "nbformat_minor": 2
}
