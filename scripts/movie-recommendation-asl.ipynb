{
 "cells": [
  {
   "cell_type": "code",
   "execution_count": 1,
   "metadata": {},
   "outputs": [],
   "source": [
    "\n",
    "import sys\n",
    "from pyspark import SparkConf, SparkContext\n",
    "from pyspark.mllib.recommendation import ALS, Rating\n"
   ]
  },
  {
   "cell_type": "code",
   "execution_count": 2,
   "metadata": {},
   "outputs": [],
   "source": [
    "\n",
    "def loadMovieNames():\n",
    "    movieNames = {}\n",
    "    with open(\"/home/hashimyousaf/spark-2.4.0-bin-hadoop2.7/bin/jupyter-scripts/dataset/ml-100k/u.item\", encoding = \"ISO-8859-1\", errors=\"ignore\") as f:\n",
    "        for line in f:\n",
    "            fields = line.split('|')\n",
    "            movieNames[int(fields[0])] = fields[1]\n",
    "    return movieNames\n",
    "\n",
    "conf = SparkConf().setMaster(\"local[*]\").setAppName(\"MovieRecommendationsALS\")\n",
    "sc = SparkContext(conf = conf)\n"
   ]
  },
  {
   "cell_type": "code",
   "execution_count": 3,
   "metadata": {},
   "outputs": [
    {
     "name": "stdout",
     "output_type": "stream",
     "text": [
      "\n",
      "Loading movie names...\n"
     ]
    }
   ],
   "source": [
    "sc.setCheckpointDir('checkpoint')\n",
    "\n",
    "print(\"\\nLoading movie names...\")\n",
    "nameDict = loadMovieNames()\n",
    "\n"
   ]
  },
  {
   "cell_type": "code",
   "execution_count": 4,
   "metadata": {},
   "outputs": [],
   "source": [
    "data = sc.textFile(\"file:///home/hashimyousaf/spark-2.4.0-bin-hadoop2.7/bin/jupyter-scripts/dataset/ml-100k/u.data\")\n",
    "\n",
    "ratings = data.map(lambda l: l.split()).map(lambda l: Rating(int(l[0]), int(l[1]), float(l[2]))).cache()\n",
    "\n"
   ]
  },
  {
   "cell_type": "code",
   "execution_count": 23,
   "metadata": {},
   "outputs": [
    {
     "name": "stdout",
     "output_type": "stream",
     "text": [
      "\n",
      "Training recommendation model...\n"
     ]
    }
   ],
   "source": [
    "\n",
    "# Build the recommendation model using Alternating Least Squares\n",
    "print(\"\\nTraining recommendation model...\")\n",
    "rank = 10\n",
    "# Lowered numIterations to ensure it works on lower-end systems\n",
    "numIterations = 6\n",
    "model = ALS.train(ratings, rank, numIterations)\n",
    "\n",
    "userID =  0 #int(sys.argv[1])\n"
   ]
  },
  {
   "cell_type": "code",
   "execution_count": 24,
   "metadata": {},
   "outputs": [
    {
     "name": "stdout",
     "output_type": "stream",
     "text": [
      "\n",
      "Ratings for user ID 0:\n",
      "Godfather: Part II, The (1974): 5.0\n",
      "Empire Strikes Back, The (1980): 5.0\n",
      "Gone with the Wind (1939): 1.0\n"
     ]
    }
   ],
   "source": [
    "\n",
    "\n",
    "print(\"\\nRatings for user ID \" + str(userID) + \":\")\n",
    "userRatings = ratings.filter(lambda l: l[0] == userID)\n",
    "for rating in userRatings.collect():\n",
    "    print (nameDict[int(rating[1])] + \": \" + str(rating[2]))\n",
    "\n",
    "\n"
   ]
  },
  {
   "cell_type": "code",
   "execution_count": 25,
   "metadata": {},
   "outputs": [
    {
     "name": "stdout",
     "output_type": "stream",
     "text": [
      "\n",
      "Top 10 recommendations:\n",
      "Three Caballeros, The (1945) score 9.00286425435626\n",
      "Haunted World of Edward D. Wood Jr., The (1995) score 7.599893612287159\n",
      "Harlem (1993) score 7.414945386287301\n",
      "Love and a .45 (1994) score 7.295781204746187\n",
      "Endless Summer 2, The (1994) score 6.944290078594165\n",
      "Color of Night (1994) score 6.926991292492175\n",
      "Grass Harp, The (1995) score 6.732730997119194\n",
      "Roommates (1995) score 6.720739506353633\n",
      "Love in the Afternoon (1957) score 6.698767168912005\n",
      "Nosferatu (Nosferatu, eine Symphonie des Grauens) (1922) score 6.691377598722749\n"
     ]
    }
   ],
   "source": [
    "\n",
    "print(\"\\nTop 10 recommendations:\")\n",
    "recommendations = model.recommendProducts(userID, 10)\n",
    "for recommendation in recommendations:\n",
    "    print (nameDict[int(recommendation[1])] + \\\n",
    "        \" score \" + str(recommendation[2]))\n",
    "    "
   ]
  },
  {
   "cell_type": "code",
   "execution_count": null,
   "metadata": {},
   "outputs": [],
   "source": []
  }
 ],
 "metadata": {
  "kernelspec": {
   "display_name": "Python 3",
   "language": "python",
   "name": "python3"
  },
  "language_info": {
   "codemirror_mode": {
    "name": "ipython",
    "version": 3
   },
   "file_extension": ".py",
   "mimetype": "text/x-python",
   "name": "python",
   "nbconvert_exporter": "python",
   "pygments_lexer": "ipython3",
   "version": "3.7.1"
  }
 },
 "nbformat": 4,
 "nbformat_minor": 2
}
